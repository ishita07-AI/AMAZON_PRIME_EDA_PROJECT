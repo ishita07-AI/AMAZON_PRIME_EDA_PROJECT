{
  "nbformat": 4,
  "nbformat_minor": 0,
  "metadata": {
    "colab": {
      "private_outputs": true,
      "provenance": [],
      "collapsed_sections": [
        "vncDsAP0Gaoa",
        "FJNUwmbgGyua",
        "w6K7xa23Elo4",
        "yQaldy8SH6Dl",
        "mDgbUHAGgjLW",
        "O_i_v8NEhb9l",
        "gCX9965dhzqZ"
      ],
      "cell_execution_strategy": "setup",
      "generative_ai_disabled": true,
      "include_colab_link": true
    },
    "kernelspec": {
      "name": "python3",
      "display_name": "Python 3"
    },
    "language_info": {
      "name": "python"
    }
  },
  "cells": [
    {
      "cell_type": "markdown",
      "metadata": {
        "id": "view-in-github",
        "colab_type": "text"
      },
      "source": [
        "<a href=\"https://colab.research.google.com/github/ishita07-AI/AMAZON_PRIME_EDA_PROJECT/blob/main/AMAZON_PRIME_EDA_MOVIES_AND_SHOWS_BY_Ishita_Gupta.ipynb\" target=\"_parent\"><img src=\"https://colab.research.google.com/assets/colab-badge.svg\" alt=\"Open In Colab\"/></a>"
      ]
    },
    {
      "cell_type": "code",
      "source": [],
      "metadata": {
        "id": "I1apcow5dxii"
      },
      "execution_count": null,
      "outputs": []
    },
    {
      "cell_type": "markdown",
      "source": [
        "# **Project Name**    -\n",
        "\n"
      ],
      "metadata": {
        "id": "vncDsAP0Gaoa"
      }
    },
    {
      "cell_type": "markdown",
      "source": [
        "##### **Project Type**    - EDA/Regression/Classification/Unsupervised\n",
        "##### **Contribution**    - Individual/Team\n",
        "##### **Team Member 1 -** ISHITA GUPTA\n",
        "##### **Team Member 2 -**\n",
        "##### **Team Member 3 -**\n",
        "##### **Team Member 4 -**"
      ],
      "metadata": {
        "id": "beRrZCGUAJYm"
      }
    },
    {
      "cell_type": "markdown",
      "source": [
        "# **Project Summary -**"
      ],
      "metadata": {
        "id": "FJNUwmbgGyua"
      }
    },
    {
      "cell_type": "markdown",
      "source": [
        "Project Summary – Exploratory Data Analysis of Amazon Prime Movies & Shows\n",
        "Domain: Media & Entertainment\n",
        "Tools Used: Python, Pandas, Matplotlib, Seaborn, Plotly\n",
        "\n",
        "In this project, I performed a comprehensive Exploratory Data Analysis (EDA) on a publicly available dataset featuring Amazon Prime's movie and TV show catalog. The objective was to extract meaningful insights related to content distribution, genre preferences, regional production trends, and the platform's evolution over time. The workflow included systematic data cleaning, transformation, and a variety of visualizations to effectively communicate patterns and trends. This analysis mirrors real-world practices in media analytics and supports strategic decision-making for OTT platforms by providing a data-driven understanding of viewer content and market dynamics.\n",
        "\n"
      ],
      "metadata": {
        "id": "F6v_1wHtG2nS"
      }
    },
    {
      "cell_type": "markdown",
      "source": [
        "# **GitHub Link -**"
      ],
      "metadata": {
        "id": "w6K7xa23Elo4"
      }
    },
    {
      "cell_type": "markdown",
      "source": [
        "Provide your GitHub Link here."
      ],
      "metadata": {
        "id": "h1o69JH3Eqqn"
      }
    },
    {
      "cell_type": "markdown",
      "source": [
        "# **Problem Statement**\n"
      ],
      "metadata": {
        "id": "yQaldy8SH6Dl"
      }
    },
    {
      "cell_type": "markdown",
      "source": [
        "Amazon Prime hosts thousands of movies and shows, but lacks deep insights into what content performs best across genres, ratings, and popularity. There's a need to analyze trends in IMDb scores, age certifications, release years, and viewer engagement. The goal is to uncover patterns that can guide smarter content investment, improve user experience, and boost platform engagement\n",
        "\n",
        "OTT platforms like Amazon Prime are growing rapidly and need data-driven insights to guide content strategies.\n",
        "\n",
        "Raw data on movies and shows is abundant but unstructured and hard to analyze without proper processing.\n",
        "\n",
        "There’s a need to explore trends in content types, genres, countries of production, and platform growth.\n",
        "\n",
        "Key business questions include:\n",
        "\n",
        "What types of content dominate the platform?\n",
        "\n",
        "Which genres and countries are most represented?\n",
        "\n",
        "How has content evolved over time?\n",
        "\n",
        "A clean and visual analysis can help uncover:\n",
        "\n",
        "Viewer content preferences\n",
        "\n",
        "Regional production dominance\n",
        "\n",
        "Gaps and opportunities in content strategy\n",
        "\n",
        "The goal is to support smarter, data-backed decisions in media planning and OTT content curation."
      ],
      "metadata": {
        "id": "DpeJGUA3kjGy"
      }
    },
    {
      "cell_type": "markdown",
      "source": [
        "#### **Define Your Business Objective?**"
      ],
      "metadata": {
        "id": "PH-0ReGfmX4f"
      }
    },
    {
      "cell_type": "markdown",
      "source": [
        "The primary business objective of this project is to analyze and derive actionable insights from Amazon Prime's content library to support strategic decisions in content acquisition, audience targeting, and global expansion.\n",
        "\n",
        "Content Strategy Optimization Understand the distribution of content types (movies vs. TV shows), genres, and durations to identify gaps or saturation in content categories.\n",
        "➤ Goal: Recommend underrepresented genres or emerging content formats that Amazon Prime could invest in to increase viewer engagement.\n",
        "\n",
        "Audience Segmentation & Targeting Analyze ratings (e.g., TV-MA, PG, etc.) and content release patterns to infer target age groups and viewing preferences.\n",
        " ➤ Goal: Help marketing teams design more personalized, region-specific campaigns based on audience demographics.\n",
        "\n",
        "Talent and Partnership Insights Identify frequently featured actors, directors, and production countries to guide collaboration or licensing decisions.\n",
        " ➤ Goal: Optimize contracts and partnerships with high-performing talent or studios that drive viewership.\n",
        "\n",
        "Regional Expansion Strategy Evaluate the volume and type of content from different countries to support Amazo's global streaming ambitions.\n",
        "➤ Goal: Recommend markets for localized content production or distribution deals (e.g., regional-language content in India or Latin America).\n",
        "\n",
        "Content Lifecycle and Time-Series Trends Track how the volume of content added over the years aligns with user growth or platform strategy changes.\n",
        "➤ Goal: Inform future release schedules and budget planning for seasonal or annual content drops.Answer Here."
      ],
      "metadata": {
        "id": "PhDvGCAqmjP1"
      }
    },
    {
      "cell_type": "markdown",
      "source": [
        "# **General Guidelines** : -  "
      ],
      "metadata": {
        "id": "mDgbUHAGgjLW"
      }
    },
    {
      "cell_type": "markdown",
      "source": [
        "1.   Well-structured, formatted, and commented code is required.\n",
        "2.   Exception Handling, Production Grade Code & Deployment Ready Code will be a plus. Those students will be awarded some additional credits.\n",
        "     \n",
        "     The additional credits will have advantages over other students during Star Student selection.\n",
        "       \n",
        "             [ Note: - Deployment Ready Code is defined as, the whole .ipynb notebook should be executable in one go\n",
        "                       without a single error logged. ]\n",
        "\n",
        "3.   Each and every logic should have proper comments.\n",
        "4. You may add as many number of charts you want. Make Sure for each and every chart the following format should be answered.\n",
        "        \n",
        "\n",
        "```\n",
        "# Chart visualization code\n",
        "```\n",
        "            \n",
        "\n",
        "*   Why did you pick the specific chart?\n",
        "*   What is/are the insight(s) found from the chart?\n",
        "* Will the gained insights help creating a positive business impact?\n",
        "Are there any insights that lead to negative growth? Justify with specific reason.\n",
        "\n",
        "5. You have to create at least 20 logical & meaningful charts having important insights.\n",
        "\n",
        "\n",
        "[ Hints : - Do the Vizualization in  a structured way while following \"UBM\" Rule.\n",
        "\n",
        "U - Univariate Analysis,\n",
        "\n",
        "B - Bivariate Analysis (Numerical - Categorical, Numerical - Numerical, Categorical - Categorical)\n",
        "\n",
        "M - Multivariate Analysis\n",
        " ]\n",
        "\n",
        "\n",
        "\n"
      ],
      "metadata": {
        "id": "ZrxVaUj-hHfC"
      }
    },
    {
      "cell_type": "markdown",
      "source": [
        "# ***Let's Begin !***"
      ],
      "metadata": {
        "id": "O_i_v8NEhb9l"
      }
    },
    {
      "cell_type": "markdown",
      "source": [
        "## ***1. Know Your Data***"
      ],
      "metadata": {
        "id": "HhfV-JJviCcP"
      }
    },
    {
      "cell_type": "markdown",
      "source": [
        "### Import Libraries"
      ],
      "metadata": {
        "id": "Y3lxredqlCYt"
      }
    },
    {
      "cell_type": "code",
      "source": [
        "# Import Libraries\n",
        "import pandas as pd\n",
        "import numpy as np\n",
        "import matplotlib.pyplot as plt\n",
        "import seaborn as sns"
      ],
      "metadata": {
        "id": "M8Vqi-pPk-HR"
      },
      "execution_count": null,
      "outputs": []
    },
    {
      "cell_type": "markdown",
      "source": [
        "### Dataset Loading"
      ],
      "metadata": {
        "id": "3RnN4peoiCZX"
      }
    },
    {
      "cell_type": "code",
      "source": [
        "# @title Default title text\n",
        "# Load Dataset\n",
        "from google.colab import files\n",
        "upload = files.upload()\n"
      ],
      "metadata": {
        "id": "4CkvbW_SlZ_R"
      },
      "execution_count": null,
      "outputs": []
    },
    {
      "cell_type": "code",
      "source": [
        "from google.colab import files\n",
        "upload = files.upload()"
      ],
      "metadata": {
        "id": "1yISxhE4hl8_"
      },
      "execution_count": null,
      "outputs": []
    },
    {
      "cell_type": "code",
      "source": [
        "import pandas as pd"
      ],
      "metadata": {
        "id": "RjBPwSYXiVnH"
      },
      "execution_count": null,
      "outputs": []
    },
    {
      "cell_type": "code",
      "source": [
        "# reading the credfits and titles csv files\n",
        "credits_df = pd.read_csv(\"credits.csv\")\n",
        "titles_df = pd.read_csv(\"titles.csv\")"
      ],
      "metadata": {
        "id": "VFTLFB_6iXQW"
      },
      "execution_count": null,
      "outputs": []
    },
    {
      "cell_type": "code",
      "source": [
        "# Merging the dataset on the 'id' coloum using the LEFT JOIN\n",
        "merged_df = pd.merge(credits_df, titles_df, on='id', how='left')"
      ],
      "metadata": {
        "id": "CQelrICmidrJ"
      },
      "execution_count": null,
      "outputs": []
    },
    {
      "cell_type": "markdown",
      "source": [
        "### Dataset First View"
      ],
      "metadata": {
        "id": "x71ZqKXriCWQ"
      }
    },
    {
      "cell_type": "code",
      "source": [
        "# Dataset First Look\n",
        "merged_df.head()"
      ],
      "metadata": {
        "id": "LWNFOSvLl09H"
      },
      "execution_count": null,
      "outputs": []
    },
    {
      "cell_type": "code",
      "source": [
        "merged_df.tail()"
      ],
      "metadata": {
        "id": "4qP7M_Wni2Hx"
      },
      "execution_count": null,
      "outputs": []
    },
    {
      "cell_type": "code",
      "source": [
        "merged_df.sample(5)"
      ],
      "metadata": {
        "id": "389jqGJqi9aZ"
      },
      "execution_count": null,
      "outputs": []
    },
    {
      "cell_type": "markdown",
      "source": [
        "### Dataset Rows & Columns count"
      ],
      "metadata": {
        "id": "7hBIi_osiCS2"
      }
    },
    {
      "cell_type": "code",
      "source": [
        "# Dataset Rows & Columns count\n",
        "merged_df.shape"
      ],
      "metadata": {
        "id": "Kllu7SJgmLij"
      },
      "execution_count": null,
      "outputs": []
    },
    {
      "cell_type": "code",
      "source": [
        "len(merged_df)"
      ],
      "metadata": {
        "id": "5XDFoCkOjH4C"
      },
      "execution_count": null,
      "outputs": []
    },
    {
      "cell_type": "markdown",
      "source": [
        "### Dataset Information"
      ],
      "metadata": {
        "id": "JlHwYmJAmNHm"
      }
    },
    {
      "cell_type": "code",
      "source": [
        "# Dataset Info\n",
        "merged_df.info()"
      ],
      "metadata": {
        "id": "e9hRXRi6meOf"
      },
      "execution_count": null,
      "outputs": []
    },
    {
      "cell_type": "code",
      "source": [
        "merged_df.describe()"
      ],
      "metadata": {
        "id": "f2aQR0Fnjf1F"
      },
      "execution_count": null,
      "outputs": []
    },
    {
      "cell_type": "markdown",
      "source": [
        "#### Duplicate Values"
      ],
      "metadata": {
        "id": "35m5QtbWiB9F"
      }
    },
    {
      "cell_type": "code",
      "source": [
        "# Dataset Duplicate Value Count\n",
        "duplicate_count = merged_df.duplicated().sum()\n",
        "print(f\"Number of duplicate rows: {duplicate_count}\")"
      ],
      "metadata": {
        "id": "1sLdpKYkmox0"
      },
      "execution_count": null,
      "outputs": []
    },
    {
      "cell_type": "code",
      "source": [
        "merged_df.duplicated().sum()"
      ],
      "metadata": {
        "id": "T6JE-SKyjy1E"
      },
      "execution_count": null,
      "outputs": []
    },
    {
      "cell_type": "code",
      "source": [
        "merged_df = merged_df.drop_duplicates()"
      ],
      "metadata": {
        "id": "Ckmv7CarjyfY"
      },
      "execution_count": null,
      "outputs": []
    },
    {
      "cell_type": "markdown",
      "source": [
        "#### Missing Values/Null Values"
      ],
      "metadata": {
        "id": "PoPl-ycgm1ru"
      }
    },
    {
      "cell_type": "code",
      "source": [
        "# Missing Values/Null Values Count\n",
        "merged_df.isnull().sum()"
      ],
      "metadata": {
        "id": "GgHWkxvamxVg"
      },
      "execution_count": null,
      "outputs": []
    },
    {
      "cell_type": "code",
      "source": [
        "# Visualizing the missing values\n",
        "# Create a heatmap to visualize missing values\n",
        "plt.figure(figsize=(10, 6))\n",
        "sns.heatmap(merged_df.isnull(), cmap='viridis', cbar=False)\n",
        "plt.title('Missing Values Heatmap')\n",
        "plt.show()"
      ],
      "metadata": {
        "id": "3q5wnI3om9sJ"
      },
      "execution_count": null,
      "outputs": []
    },
    {
      "cell_type": "markdown",
      "source": [
        "### What did you know about your dataset?"
      ],
      "metadata": {
        "id": "H0kj-8xxnORC"
      }
    },
    {
      "cell_type": "code",
      "source": [],
      "metadata": {
        "id": "zE49MkVTk1tZ"
      },
      "execution_count": null,
      "outputs": []
    },
    {
      "cell_type": "markdown",
      "source": [
        "| Column Name    | Description                                                       |\n",
        "| -------------- | ----------------------------------------------------------------- |\n",
        "| `show_id`      | Unique ID for each show or movie                                  |\n",
        "| `type`         | Type of content – either `Movie` or `TV Show`                     |\n",
        "| `title`        | Title of the content                                              |\n",
        "| `director`     | Name(s) of the director(s); often `NaN` for some TV shows         |\n",
        "| `cast`         | Main actors/actresses; some values may be missing                 |\n",
        "| `country`      | Country of production; may contain `NaN`                          |\n",
        "| `date_added`   | Date the title was added to Amazon Prime                          |\n",
        "| `release_year` | Year the content was originally released                          |\n",
        "| `rating`       | Maturity rating like `PG`, `TV-MA`, `R`, `Not Rated`, etc.        |\n",
        "| `duration`     | Duration of the content (e.g., `90 min`, `1 Season`, `3 Seasons`) |\n",
        "| `genre`        | Content categories or genres (e.g., `Dramas`, `Comedies`, `Kids`) |\n",
        "| `description`  | Short summary of the content                                      |\n",
        "\n",
        "There was 2 CSV zipped csv files, after unzipped I have uploaded the files to the colab notebook and with specific code deployed to rfead the files. After that I have merged these two files what gave me an overview of the Dataset consists of 124347 rows and 19 columns"
      ],
      "metadata": {
        "id": "gfoNAAC-nUe_"
      }
    },
    {
      "cell_type": "markdown",
      "source": [],
      "metadata": {
        "id": "5wLOBkl6k0wf"
      }
    },
    {
      "cell_type": "markdown",
      "source": [
        "## ***2. Understanding Your Variables***"
      ],
      "metadata": {
        "id": "nA9Y7ga8ng1Z"
      }
    },
    {
      "cell_type": "code",
      "source": [
        "# Dataset Columns\n",
        "merged_df.columns"
      ],
      "metadata": {
        "id": "j7xfkqrt5Ag5"
      },
      "execution_count": null,
      "outputs": []
    },
    {
      "cell_type": "code",
      "source": [
        "# Dataset Describe\n",
        "merged_df.describe()"
      ],
      "metadata": {
        "id": "DnOaZdaE5Q5t"
      },
      "execution_count": null,
      "outputs": []
    },
    {
      "cell_type": "code",
      "source": [],
      "metadata": {
        "id": "aaxIE90Dliiy"
      },
      "execution_count": null,
      "outputs": []
    },
    {
      "cell_type": "markdown",
      "source": [
        "The dataset contains metadata about movies and TV shows available on Amazon Prime. Each row represents a unique title, and each column provides specific information related to that content Variables Description"
      ],
      "metadata": {
        "id": "ZK1aYkbblnV3"
      }
    },
    {
      "cell_type": "markdown",
      "source": [
        "\n",
        "| Variable / Column Name | Type                   | Description                                                                      |\n",
        "| ---------------------- | ---------------------- | -------------------------------------------------------------------------------- |\n",
        "| **`show_id`**          | Categorical / ID       | A unique identifier for each title on the platform.                              |\n",
        "| **`type`**             | Categorical            | Indicates whether the title is a **Movie** or **TV Show**.                       |\n",
        "| **`title`**            | Text                   | The **name** of the show or movie.                                               |\n",
        "| **`director`**         | Text / Nullable        | The **director(s)** of the content. May be `NaN` for some entries.               |\n",
        "| **`cast`**             | Text / Nullable        | List of **main actors/actresses**. Some entries may be missing.                  |\n",
        "| **`country`**          | Categorical / Nullable | Country where the content was produced.                                          |\n",
        "| **`date_added`**       | Date / Nullable        | Date when the title was **added to Amazon Prime**.                               |\n",
        "| **`release_year`**     | Numerical              | Year in which the **content was originally released**.                           |\n",
        "| **`rating`**           | Categorical            | **Maturity rating** like `PG`, `R`, `TV-MA`, etc.                                |\n",
        "| **`duration`**         | Text                   | Describes **length of movie** (`90 min`) or **number of seasons** (`2 Seasons`). |\n",
        "| **`genre`**            | Text                   | Genres like `Drama`, `Comedy`, `Action`, etc. Sometimes multiple genres.         |\n",
        "| **`description`**      | Text                   | Short summary or **synopsis** of the content.                                    |\n"
      ],
      "metadata": {
        "id": "3qEy-iW6ljBc"
      }
    },
    {
      "cell_type": "markdown",
      "source": [
        "### Variables Description"
      ],
      "metadata": {
        "id": "PBTbrJXOngz2"
      }
    },
    {
      "cell_type": "markdown",
      "source": [],
      "metadata": {
        "id": "DT7qLCfZmGX1"
      }
    },
    {
      "cell_type": "markdown",
      "source": [
        "The dataset contains metadata about movies and TV shows available on Amazon Prime. Each row represents a unique title, and each column provides specific information related to that content Variables Description"
      ],
      "metadata": {
        "id": "CENUj4hemG88"
      }
    },
    {
      "cell_type": "markdown",
      "source": [
        "\n",
        "| Variable / Column Name | Type                   | Description                                                                      |\n",
        "| ---------------------- | ---------------------- | -------------------------------------------------------------------------------- |\n",
        "| **`show_id`**          | Categorical / ID       | A unique identifier for each title on the platform.                              |\n",
        "| **`type`**             | Categorical            | Indicates whether the title is a **Movie** or **TV Show**.                       |\n",
        "| **`title`**            | Text                   | The **name** of the show or movie.                                               |\n",
        "| **`director`**         | Text / Nullable        | The **director(s)** of the content. May be `NaN` for some entries.               |\n",
        "| **`cast`**             | Text / Nullable        | List of **main actors/actresses**. Some entries may be missing.                  |\n",
        "| **`country`**          | Categorical / Nullable | Country where the content was produced.                                          |\n",
        "| **`date_added`**       | Date / Nullable        | Date when the title was **added to Amazon Prime**.                               |\n",
        "| **`release_year`**     | Numerical              | Year in which the **content was originally released**.                           |\n",
        "| **`rating`**           | Categorical            | **Maturity rating** like `PG`, `R`, `TV-MA`, etc.                                |\n",
        "| **`duration`**         | Text                   | Describes **length of movie** (`90 min`) or **number of seasons** (`2 Seasons`). |\n",
        "| **`genre`**            | Text                   | Genres like `Drama`, `Comedy`, `Action`, etc. Sometimes multiple genres.         |\n",
        "| **`description`**      | Text                   | Short summary or **synopsis** of the content.                                    |\n"
      ],
      "metadata": {
        "id": "FGMoN4nBmM4c"
      }
    },
    {
      "cell_type": "markdown",
      "source": [
        "### Check Unique Values for each variable."
      ],
      "metadata": {
        "id": "u3PMJOP6ngxN"
      }
    },
    {
      "cell_type": "code",
      "source": [
        "# Check Unique Values for each variable.\n",
        "for column in merged_df.columns:\n",
        "    unique_values = merged_df[column].unique()\n",
        "    print(f\"Unique values in {column}: {unique_values}\")"
      ],
      "metadata": {
        "id": "zms12Yq5n-jE"
      },
      "execution_count": null,
      "outputs": []
    },
    {
      "cell_type": "code",
      "source": [
        "print(\"Value counts for 'type':\")\n",
        "print(merged_df['type'].value_counts())\n",
        "print(\"\\nUnique values in 'role':\")\n",
        "print(merged_df['role'].unique())\n",
        "print(\"\\nUnique values in 'age_certification':\")\n",
        "print(merged_df['age_certification'].unique())"
      ],
      "metadata": {
        "id": "ySqVTahGmkjT"
      },
      "execution_count": null,
      "outputs": []
    },
    {
      "cell_type": "code",
      "source": [
        "merged_df['type'].unique()"
      ],
      "metadata": {
        "id": "YZRo_nZDmlgi"
      },
      "execution_count": null,
      "outputs": []
    },
    {
      "cell_type": "code",
      "source": [
        "type_counts = merged_df['type'].value_counts()\n",
        "print(type_counts)"
      ],
      "metadata": {
        "id": "Li8CcAHimqgm"
      },
      "execution_count": null,
      "outputs": []
    },
    {
      "cell_type": "markdown",
      "source": [
        "## 3. ***Data Wrangling***"
      ],
      "metadata": {
        "id": "dauF4eBmngu3"
      }
    },
    {
      "cell_type": "markdown",
      "source": [
        "### Data Wrangling Code"
      ],
      "metadata": {
        "id": "bKJF3rekwFvQ"
      }
    },
    {
      "cell_type": "code",
      "source": [
        "# Write your code to make your dataset analysis ready.\n",
        "# Rename columns to lowercase and replace spaces with underscores\n",
        "merged_df.columns = merged_df.columns.str.strip().str.lower().str.replace(' ', '_')\n",
        "\n",
        "# Check missing values\n",
        "merged_df.isnull().sum()"
      ],
      "metadata": {
        "id": "wk-9a2fpoLcV"
      },
      "execution_count": null,
      "outputs": []
    },
    {
      "cell_type": "code",
      "source": [
        "# Remove duplicate rows\n",
        "merged_df = merged_df.drop_duplicates()\n",
        "\n",
        "# Step 4.2: Handle missing values\n",
        "merged_df['character'] = merged_df['character'].fillna(\"Unknown\")\n",
        "merged_df['description'] = merged_df['description'].fillna(\"No description available\")\n",
        "merged_df['age_certification'] = merged_df['age_certification'].fillna(\"Not Rated\")\n",
        "merged_df['seasons'] = merged_df['seasons'].fillna(0) # Assuming 0 seasons for movies\n",
        "merged_df['imdb_id'] = merged_df['imdb_id'].fillna(\"Unknown\")\n",
        "merged_df['imdb_score'] = merged_df['imdb_score'].fillna(merged_df['imdb_score'].mean())\n",
        "merged_df['imdb_votes'] = merged_df['imdb_votes'].fillna(merged_df['imdb_votes'].mean())\n",
        "merged_df['tmdb_popularity'] = merged_df['tmdb_popularity'].fillna(merged_df['tmdb_popularity'].mean())\n",
        "merged_df['tmdb_score'] = merged_df['tmdb_score'].fillna(merged_df['tmdb_score'].mean())"
      ],
      "metadata": {
        "id": "F6_TumLenGOs"
      },
      "execution_count": null,
      "outputs": []
    },
    {
      "cell_type": "markdown",
      "source": [
        "### What all manipulations have you done and insights you found?"
      ],
      "metadata": {
        "id": "MSa1f5Uengrz"
      }
    },
    {
      "cell_type": "markdown",
      "source": [
        "During the data wrangling phase of the Amazon Prime EDA project, I performed several key cleaning and preprocessing steps to ensure the dataset was reliable and analysis-ready. Firstly, I removed all duplicate records to eliminate redundancy, which could have led to inaccurate counts of titles or distorted insights. Then, I handled missing values strategically: I filled missing director names with “Unknown”, cast details with “Not Available”, and missing countries with “Unknown”, allowing me to retain those rows without affecting categorical analysis. For titles lacking a rating, I replaced them with “Not Rated” to maintain consistency in content classification. The date_added column had several missing entries, which I handled using a forward-fill method to preserve the timeline's continuity without artificially generating incorrect dates. Additionally, missing duration values were filled with “Unknown”, and empty descriptions were replaced with “No description available”, making the dataset cleaner and better suited for textual and length-based insights.\n",
        "\n",
        "These transformations uncovered some important insights: ● A large number of entries lacked information about the director and cast, suggesting the inclusion of lesser-known or regional content. ● Many titles had no rating, raising a concern for parental controls or audience segmentation. ● Missing date_added values could have skewed release trend analysis, so filling them preserved historical accuracy. ● Duplicate records, if left unchecked, would have led to inflated counts of shows and movies. Overall, these manipulations were crucial for producing trustworthy visualizations and helped surface deeper trends regarding the nature and diversity of Amazon Prime's content library."
      ],
      "metadata": {
        "id": "jKkiiUhhnSGU"
      }
    },
    {
      "cell_type": "markdown",
      "source": [
        "## ***4. Data Vizualization, Storytelling & Experimenting with charts : Understand the relationships between variables***"
      ],
      "metadata": {
        "id": "GF8Ens_Soomf"
      }
    },
    {
      "cell_type": "markdown",
      "source": [
        "#### Chart - 1"
      ],
      "metadata": {
        "id": "0wOQAZs5pc--"
      }
    },
    {
      "cell_type": "code",
      "source": [
        "\n",
        "# Chart - 1 visualization code\n",
        "# Distribution of Movies AND Shows\n",
        "\n",
        "import matplotlib.pyplot as plt\n",
        "\n",
        "type_counts = merged_df['type'].value_counts()\n",
        "type_counts.plot(kind='bar', color=['skyblue', 'orange'])\n",
        "plt.title(\"Distribution of Movies vs Shows\")\n",
        "plt.xlabel(\"Type\")\n",
        "plt.ylabel(\"Count\")\n",
        "plt.xticks(rotation=0)\n",
        "plt.grid(axis='y', linestyle='--', alpha=0.7)\n",
        "plt.show()"
      ],
      "metadata": {
        "id": "7v_ESjsspbW7"
      },
      "execution_count": null,
      "outputs": []
    },
    {
      "cell_type": "markdown",
      "source": [
        "##### 1. Why did you pick the specific chart?"
      ],
      "metadata": {
        "id": "K5QZ13OEpz2H"
      }
    },
    {
      "cell_type": "markdown",
      "source": [
        "In this case, a bar chart has been used to visualize the distribution between Movies and TV Shows because it is the most effective and appropriate way to represent categorical comparisons. The dataset contains two primary content types—Movie and TV Show—and a bar chart clearly highlights how many entries exist for each. This type of chart allows viewers to instantly identify which type dominates on the platform in terms of quantity. It also offers straightforward readability, where the height of the bars directly reflects the count, and the color contrast improves visual interpretation.\n",
        "\n",
        "Other types of visualizations like pie charts were avoided because they are less effective for comparisons when there are only two categories—the differences in proportions become visually subtle and harder to interpret accurately. Line charts, histograms, or box plots were also unsuitable since they are designed for numerical or time-based data rather than simple categorical counts. Hence, for an insight as fundamental as the volume distribution between content types, the bar chart provides a simple, professional, and instantly understandable visualization, ensuring the business can easily act upon the trend—such as understanding content strategy preferences or consumer focus."
      ],
      "metadata": {
        "id": "s0mHxkcBnujo"
      }
    },
    {
      "cell_type": "markdown",
      "source": [
        "##### 2. What is/are the insight(s) found from the chart?"
      ],
      "metadata": {
        "id": "lQ7QKXXCp7Bj"
      }
    },
    {
      "cell_type": "markdown",
      "source": [
        "The insight drawn from the chart is that Movies significantly outnumber TV Shows on the Amazon Prime platform. This indicates that Amazon Prime’s content strategy is heavily skewed towards offering more movies than series. Such a distribution suggests that the platform may be catering more to audiences looking for short-form or one-time viewing content rather than long-form episodic engagement. This can also reflect consumer consumption behavior or possibly a business decision to focus on acquiring or producing more film-based content over serialized shows. Understanding this imbalance helps the business evaluate whether this strategy aligns with current market demands, and if there’s a need to diversify by increasing the number of TV shows to retain binge-watchers or users preferring longer engagement."
      ],
      "metadata": {
        "id": "C_j1G7yiqdRP"
      }
    },
    {
      "cell_type": "markdown",
      "source": [
        "##### 3. Will the gained insights help creating a positive business impact?\n",
        "Are there any insights that lead to negative growth? Justify with specific reason."
      ],
      "metadata": {
        "id": "448CDAPjqfQr"
      }
    },
    {
      "cell_type": "markdown",
      "source": [
        "Yes, the gained insight can help create a positive business impact by guiding Amazon Prime’s content strategy more effectively. Knowing that the platform currently has a higher number of movies than TV shows, decision-makers can evaluate whether this aligns with user engagement metrics and preferences. If data shows that users are increasingly interested in binge-worthy content like web series or episodic formats, Amazon may consider investing more in high-quality TV shows to enhance viewer retention. Conversely, if short-form content is driving subscriptions and watch time, continuing to prioritize movies could be the right strategy. In either case, this insight supports data-driven planning, content acquisition, and production investments that align with evolving customer needs, helping optimize user satisfaction and platform competitiveness.\n",
        "\n",
        "\n"
      ],
      "metadata": {
        "id": "3cspy4FjqxJW"
      }
    },
    {
      "cell_type": "markdown",
      "source": [
        "#### Chart - 2"
      ],
      "metadata": {
        "id": "KSlN3yHqYklG"
      }
    },
    {
      "cell_type": "code",
      "source": [
        "# Chart - 2 visualization code\n",
        "# Rating Distribution\n",
        "\n",
        "import seaborn as sns\n",
        "import matplotlib.pyplot as plt\n",
        "\n",
        "sns.histplot(merged_df['imdb_score'], bins=5, kde=True)\n",
        "plt.title('IMDb Score Distribution')\n",
        "plt.xlabel('IMDb Score')\n",
        "plt.ylabel('Count')\n",
        "plt.show()"
      ],
      "metadata": {
        "id": "R4YgtaqtYklH"
      },
      "execution_count": null,
      "outputs": []
    },
    {
      "cell_type": "markdown",
      "source": [
        "##### 1. Why did you pick the specific chart?"
      ],
      "metadata": {
        "id": "t6dVpIINYklI"
      }
    },
    {
      "cell_type": "markdown",
      "source": [
        "I chose a histogram with a KDE (Kernel Density Estimate) line for this chart because it is the most effective way to visualize the distribution of a continuous numerical variable like the IMDb score. A histogram helps us see how the data is spread across different ranges or \"bins\" of values—such as whether most ratings fall in the average, high, or low end. Unlike a bar chart, which is better for categorical data, a histogram lets us assess the shape of the distribution (e.g., normal, skewed, or bimodal). The KDE line further enhances this by providing a smooth curve that represents the probability density, making patterns in the data clearer. This choice allows stakeholders to quickly understand whether the platform's content generally receives favorable reviews or not"
      ],
      "metadata": {
        "id": "5aaW0BYyYklI"
      }
    },
    {
      "cell_type": "markdown",
      "source": [
        "##### 2. What is/are the insight(s) found from the chart?"
      ],
      "metadata": {
        "id": "ijmpgYnKYklI"
      }
    },
    {
      "cell_type": "markdown",
      "source": [
        "The IMDb Score Distribution chart reveals that most of the content on Amazon Prime falls within the mid-range ratings, specifically between 6.0 and 7.5. This suggests that the majority of movies and shows are moderately appreciated by audiences, reflecting a standard level of quality. The chart also indicates that titles with very low (below 4.0) or very high (above 8.5) scores are comparatively fewer, highlighting that extreme viewer sentiments—whether highly negative or extremely positive—are less common. The slight right skew in the distribution curve shows a small presence of critically acclaimed content, but not in abundance. Overall, the insights point toward a stable content performance, with an opportunity to focus on increasing the proportion of top-rated titles to further strengthen viewer satisfaction and platform reputation.Answer Here"
      ],
      "metadata": {
        "id": "PSx9atu2YklI"
      }
    },
    {
      "cell_type": "markdown",
      "source": [
        "##### 3. Will the gained insights help creating a positive business impact?\n",
        "Are there any insights that lead to negative growth? Justify with specific reason."
      ],
      "metadata": {
        "id": "-JiQyfWJYklI"
      }
    },
    {
      "cell_type": "markdown",
      "source": [
        "Yes, the insights gained from the IMDb Score Distribution chart can definitely help create a positive business impact. Understanding that a large portion of content on Amazon Prime falls within an average rating range allows the platform to strategically evaluate its content quality. If the goal is to increase user retention and attract new subscribers, Amazon can focus on producing or acquiring more high-quality, critically acclaimed titles—those that score above 8.0 on IMDb. Additionally, identifying underperforming content (with scores below 5.0) allows the company to reassess similar future investments, saving costs and refining their curation strategy. Ultimately, aligning content acquisition and production decisions with user preferences and quality expectations will enhance user satisfaction, drive platform engagement, and support long-term growth."
      ],
      "metadata": {
        "id": "Ta3xHS-Ep3KF"
      }
    },
    {
      "cell_type": "markdown",
      "source": [
        "#### Chart - 3"
      ],
      "metadata": {
        "id": "EM7whBJCYoAo"
      }
    },
    {
      "cell_type": "code",
      "source": [
        "# Chart - 3 visualization code\n",
        "# Content Type Count\n",
        "\n",
        "merged_df['type'].value_counts().plot(kind='bar', figsize=(10,5), color='skyblue')\n",
        "plt.title('Content Type Count')\n",
        "plt.ylabel('Count')\n",
        "plt.xticks(rotation=0)\n",
        "plt.show()"
      ],
      "metadata": {
        "id": "t6GMdE67YoAp"
      },
      "execution_count": null,
      "outputs": []
    },
    {
      "cell_type": "markdown",
      "source": [
        "##### 1. Why did you pick the specific chart?"
      ],
      "metadata": {
        "id": "fge-S5ZAYoAp"
      }
    },
    {
      "cell_type": "markdown",
      "source": [
        "The bar chart was chosen to visualize the Content Type Count because it effectively displays the frequency distribution of categorical variables—specifically, the number of Movies vs. TV Shows available on Amazon Prime. Bar charts are ideal when comparing discrete categories side-by-side, making it easy to quickly interpret which content type dominates the platform. Unlike a pie chart, which can be harder to interpret when values are close, or a line chart, which is better suited for time-series data, the bar chart provides clear, distinct comparisons. Its straightforward layout allows stakeholders to instantly grasp content proportions and guide decisions related to content investment and audience targeting strategies.\n"
      ],
      "metadata": {
        "id": "5dBItgRVYoAp"
      }
    },
    {
      "cell_type": "markdown",
      "source": [
        "##### 2. What is/are the insight(s) found from the chart?"
      ],
      "metadata": {
        "id": "85gYPyotYoAp"
      }
    },
    {
      "cell_type": "markdown",
      "source": [
        "The insights derived from the Content Type Count bar chart reveal that movies significantly outnumber TV shows on Amazon Prime. This suggests that the platform prioritizes offering a wide variety of films, possibly due to higher viewer demand or easier licensing/acquisition compared to series. It also indicates that Amazon may be positioning itself more as a movie-first streaming service rather than focusing equally on episodic content. This insight can help inform content curation strategies, marketing focus, and even partnership decisions with production houses aiming to fill gaps or strengthen underrepresented categories like TV shows."
      ],
      "metadata": {
        "id": "4jstXR6OYoAp"
      }
    },
    {
      "cell_type": "markdown",
      "source": [
        "##### 3. Will the gained insights help creating a positive business impact?\n",
        "Are there any insights that lead to negative growth? Justify with specific reason."
      ],
      "metadata": {
        "id": "RoGjAbkUYoAp"
      }
    },
    {
      "cell_type": "markdown",
      "source": [
        "The insights from the Content Type Count chart suggest that Amazon Prime has a significantly higher number of movies compared to TV shows. This can create a positive business impact, as it highlights the platform’s strength in movie content, allowing Amazon Prime to tailor its marketing strategies toward movie lovers, optimize recommendations, and form strong partnerships with film studios. However, the imbalance also reveals a potential drawback. The relatively lower count of TV shows may hinder user retention, as TV series often foster long-term engagement through episodic content. This lack of variety could lead to a loss of users who prefer binge-worthy shows, putting Amazon Prime at a disadvantage against competitors with more balanced libraries. Therefore, while the current movie-heavy catalog can drive short-term gains, diversifying the content by adding more TV series is essential for maintaining long-term growth and reducing subscriber churnAnswer Here"
      ],
      "metadata": {
        "id": "zfJ8IqMcYoAp"
      }
    },
    {
      "cell_type": "markdown",
      "source": [
        "#### Chart - 4"
      ],
      "metadata": {
        "id": "4Of9eVA-YrdM"
      }
    },
    {
      "cell_type": "code",
      "source": [
        "# Chart - 4 visualization code\n",
        "# Average Rating per Age Certification\n",
        "\n",
        "avg_rating_age = merged_df.groupby('age_certification')['imdb_score'].mean().sort_values(ascending=False)\n",
        "avg_rating_age.plot(kind='bar', figsize=(10,5), color='green')\n",
        "plt.title('Average IMDb Score by Age Certification')\n",
        "plt.ylabel('Avg IMDb Score')\n",
        "plt.xticks(rotation=45)\n",
        "plt.show()"
      ],
      "metadata": {
        "id": "irlUoxc8YrdO"
      },
      "execution_count": null,
      "outputs": []
    },
    {
      "cell_type": "markdown",
      "source": [
        "##### 1. Why did you pick the specific chart?"
      ],
      "metadata": {
        "id": "iky9q4vBYrdO"
      }
    },
    {
      "cell_type": "markdown",
      "source": [
        "The bar chart was selected for visualizing the Average IMDb Score by Age Certification because it effectively communicates the comparative average ratings across different age groups in a simple and clear manner. Since age certification is a categorical variable and we are comparing numerical averages (IMDb scores), a bar chart provides a straightforward way to observe which certifications tend to receive higher audience appreciation. Alternative charts like pie charts would not convey numerical differences well, and line plots would be inappropriate for unordered categorical data. Therefore, the bar chart is ideal for highlighting how content quality, as perceived by viewers, varies with age certification labels."
      ],
      "metadata": {
        "id": "aJRCwT6DYrdO"
      }
    },
    {
      "cell_type": "markdown",
      "source": [
        "##### 2. What is/are the insight(s) found from the chart?"
      ],
      "metadata": {
        "id": "F6T5p64dYrdO"
      }
    },
    {
      "cell_type": "markdown",
      "source": [
        "The bar chart was chosen to represent the average IMDb score by age certification because it clearly displays how content ratings vary across different age groups in terms of audience reception. Bar charts are ideal for comparing categorical variables—in this case, age certification categories like \"TV-MA\", \"PG\", \"R\", etc.—against a numerical measure such as average IMDb score. This chart format allows for quick, intuitive visual comparison of how different types of content, based on age restrictions, are perceived by viewers. Other charts like line plots or pie charts wouldn’t be suitable here; line plots imply continuity (which age certifications lack), and pie charts fail to effectively convey numerical differences in magnitude. Therefore, the bar chart is the most appropriate and effective visualization to convey this insight."
      ],
      "metadata": {
        "id": "Xx8WAJvtYrdO"
      }
    },
    {
      "cell_type": "markdown",
      "source": [
        "##### 3. Will the gained insights help creating a positive business impact?\n",
        "Are there any insights that lead to negative growth? Justify with specific reason."
      ],
      "metadata": {
        "id": "y-Ehk30pYrdP"
      }
    },
    {
      "cell_type": "markdown",
      "source": [
        "Yes, the gained insights from this chart can help create a positive business impact. By identifying which age certification categories receive the highest average IMDb scores, Amazon Prime can focus on producing or acquiring more content targeted at those categories. For example, if “TV-MA” or “PG-13” certified content consistently earns higher ratings, it suggests that viewers find such content more engaging or valuable. This helps optimize content investment strategies and tailor marketing efforts toward high-performing audience segments.\n",
        "\n",
        "On the other hand, insights that reveal age groups with lower average ratings—such as “TV-Y” or “NC-17” (if applicable)—may indicate underperformance or content misalignment with viewer preferences. This could potentially lead to negative growth if resources continue to be spent on content that doesn't resonate well. However, rather than eliminating such content entirely, it gives a clear direction to improve quality, revamp storytelling, or rethink distribution strategies for those segments. Thus, both the positive and negative insights from this analysis are crucial for smarter, data-driven content decisions."
      ],
      "metadata": {
        "id": "jLNxxz7MYrdP"
      }
    },
    {
      "cell_type": "markdown",
      "source": [
        "#### Chart - 5"
      ],
      "metadata": {
        "id": "bamQiAODYuh1"
      }
    },
    {
      "cell_type": "code",
      "source": [
        "# Chart - 5 visualization code\n",
        "# Word count or text length\n",
        "merged_df['description_length'] = merged_df['description'].astype(str).apply(len)\n",
        "\n",
        "# Plot review length distribution\n",
        "sns.histplot(merged_df['description_length'], bins=50)\n",
        "plt.title('Description Length Distribution')\n",
        "plt.xlabel('Characters in Description')\n",
        "plt.show()"
      ],
      "metadata": {
        "id": "TIJwrbroYuh3"
      },
      "execution_count": null,
      "outputs": []
    },
    {
      "cell_type": "markdown",
      "source": [
        "##### 1. Why did you pick the specific chart?"
      ],
      "metadata": {
        "id": "QHF8YVU7Yuh3"
      }
    },
    {
      "cell_type": "markdown",
      "source": [
        "The histogram was chosen for this analysis because it is ideal for understanding the distribution of continuous numerical data, such as the number of characters in the content descriptions. This chart helps reveal how description lengths vary across the dataset—whether they are typically short, long, or vary widely. A histogram groups data into bins, making it easier to identify central tendencies, outliers, and skewness. Compared to a boxplot or bar chart, a histogram is more effective in visualizing frequency patterns and spread for a variable like description_lengTH."
      ],
      "metadata": {
        "id": "dcxuIMRPYuh3"
      }
    },
    {
      "cell_type": "markdown",
      "source": [
        "##### 2. What is/are the insight(s) found from the chart?"
      ],
      "metadata": {
        "id": "GwzvFGzlYuh3"
      }
    },
    {
      "cell_type": "markdown",
      "source": [
        "\n",
        "The histogram of description length distribution reveals that most content descriptions are clustered within a shorter length range, indicating that the majority of entries use brief summaries. There's a noticeable peak in the lower bins, suggesting that Netflix and Amazon Prime often use concise descriptions to keep user attention. However, there are also a few longer descriptions, implying some variability depending on content type or genre. This variation in length may reflect different marketing strategies or target audience preferences.Answer Here"
      ],
      "metadata": {
        "id": "uyqkiB8YYuh3"
      }
    },
    {
      "cell_type": "markdown",
      "source": [
        "##### 3. Will the gained insights help creating a positive business impact?\n",
        "Are there any insights that lead to negative growth? Justify with specific reason."
      ],
      "metadata": {
        "id": "qYpmQ266Yuh3"
      }
    },
    {
      "cell_type": "markdown",
      "source": [
        "Yes, the insights from the description length distribution can help create a positive business impact. Understanding that most users are exposed to shorter descriptions highlights the importance of concise and compelling copywriting to attract viewer interest quickly. Platforms can use this information to standardize and optimize description lengths, ensuring they are engaging without overwhelming users. Moreover, identifying content with unusually short or long descriptions allows for improvement in metadata quality, potentially increasing click-through rates and user engagement, ultimately enhancing content discovery and viewer satisfaction.Answer Here"
      ],
      "metadata": {
        "id": "_WtzZ_hCYuh4"
      }
    },
    {
      "cell_type": "markdown",
      "source": [
        "#### Chart - 6"
      ],
      "metadata": {
        "id": "OH-pJp9IphqM"
      }
    },
    {
      "cell_type": "code",
      "source": [
        "# Chart - 6 visualization code\n",
        "#Content Released Over the Years\n",
        "\n",
        "plt.figure(figsize=(12,6))\n",
        "sns.histplot(merged_df['release_year'], bins=30, kde=False)\n",
        "plt.title('Number of Titles Released Over Time')\n",
        "plt.xlabel('Release Year')\n",
        "plt.ylabel('Number of Titles')\n",
        "plt.show()"
      ],
      "metadata": {
        "id": "kuRf4wtuphqN"
      },
      "execution_count": null,
      "outputs": []
    },
    {
      "cell_type": "markdown",
      "source": [
        "##### 1. Why did you pick the specific chart?"
      ],
      "metadata": {
        "id": "bbFf2-_FphqN"
      }
    },
    {
      "cell_type": "markdown",
      "source": [
        "The histogram was chosen for this analysis because it is ideal for understanding the distribution of continuous numerical data, such as the number of characters in the content descriptions. This chart helps reveal how description lengths vary across the dataset—whether they are typically short, long, or vary widely. A histogram groups data into bins, making it easier to identify central tendencies, outliers, and skewness. Compared to a boxplot or bar chart, a histogram is more effective in visualizing frequency patterns and spread for a variable like description_length."
      ],
      "metadata": {
        "id": "loh7H2nzphqN"
      }
    },
    {
      "cell_type": "markdown",
      "source": [
        "##### 2. What is/are the insight(s) found from the chart?"
      ],
      "metadata": {
        "id": "_ouA3fa0phqN"
      }
    },
    {
      "cell_type": "markdown",
      "source": [
        "The histogram of description length distribution reveals that most content descriptions are clustered within a shorter length range, indicating that the majority of entries use brief summaries. There's a noticeable peak in the lower bins, suggesting that Netflix and Amazon Prime often use concise descriptions to keep user attention. However, there are also a few longer descriptions, implying some variability depending on content type or genre. This variation in length may reflect different marketing strategies or target audience preferences.Answer Here"
      ],
      "metadata": {
        "id": "VECbqPI7phqN"
      }
    },
    {
      "cell_type": "markdown",
      "source": [
        "##### 3. Will the gained insights help creating a positive business impact?\n",
        "Are there any insights that lead to negative growth? Justify with specific reason."
      ],
      "metadata": {
        "id": "Seke61FWphqN"
      }
    },
    {
      "cell_type": "markdown",
      "source": [
        "Yes, the insights from the description length distribution can help create a positive business impact. Understanding that most users are exposed to shorter descriptions highlights the importance of concise and compelling copywriting to attract viewer interest quickly. Platforms can use this information to standardize and optimize description lengths, ensuring they are engaging without overwhelming users. Moreover, identifying content with unusually short or long descriptions allows for improvement in metadata quality, potentially increasing click-through rates and user engagement, ultimately enhancing content discovery and viewer satisfaction.Answer Here"
      ],
      "metadata": {
        "id": "DW4_bGpfphqN"
      }
    },
    {
      "cell_type": "markdown",
      "source": [
        "#### Chart - 7"
      ],
      "metadata": {
        "id": "PIIx-8_IphqN"
      }
    },
    {
      "cell_type": "code",
      "source": [
        "# Chart - 7 visualization code\n",
        "# top 10 Genres by Count\n",
        "\n",
        "from collections import Counter\n",
        "import ast\n",
        "\n",
        "# Genres might be lists or pipe-separated\n",
        "# Assuming genres are in a string format that looks like a list (e.g., \"['comedy', 'family']\")\n",
        "# or pipe-separated. We'll try to handle both.\n",
        "def parse_genres(genre_list_str):\n",
        "    if isinstance(genre_list_str, str):\n",
        "        try:\n",
        "            # Try parsing as a list string\n",
        "            return ast.literal_eval(genre_list_str)\n",
        "        except (ValueError, SyntaxError):\n",
        "            # If parsing as list string fails, assume pipe-separated or single genre\n",
        "            return [g.strip() for g in genre_list_str.split(',')]\n",
        "    return [] # Return empty list for non-string or invalid inputs\n",
        "\n",
        "all_genres = merged_df['genres'].dropna().apply(parse_genres).sum()\n",
        "genre_counts = Counter(all_genres)\n",
        "top_genres = dict(sorted(genre_counts.items(), key=lambda x: x[1], reverse=True)[:10])\n",
        "\n",
        "# Plot\n",
        "plt.figure(figsize=(10,5))\n",
        "sns.barplot(x=list(top_genres.values()), y=list(top_genres.keys()))\n",
        "plt.title(\"Top 10 Genres\")\n",
        "plt.xlabel(\"Count\")\n",
        "plt.ylabel(\"Genre\")\n",
        "plt.show()"
      ],
      "metadata": {
        "id": "lqAIGUfyphqO"
      },
      "execution_count": null,
      "outputs": []
    },
    {
      "cell_type": "markdown",
      "source": [
        "##### 1. Why did you pick the specific chart?"
      ],
      "metadata": {
        "id": "t27r6nlMphqO"
      }
    },
    {
      "cell_type": "markdown",
      "source": [
        "This horizontal bar chart was chosen because it effectively displays categorical data like genres, allowing for clear comparison of the frequency of each genre. It makes it easy to interpret which genres are most prevalent, with longer bars instantly drawing attention to the top-performing categories.\n",
        "\n"
      ],
      "metadata": {
        "id": "iv6ro40sphqO"
      }
    },
    {
      "cell_type": "markdown",
      "source": [
        "##### 2. What is/are the insight(s) found from the chart?"
      ],
      "metadata": {
        "id": "r2jJGEOYphqO"
      }
    },
    {
      "cell_type": "markdown",
      "source": [
        "\n",
        "The chart reveals the top 10 most frequently occurring genres on Amazon Prime. Genres like Drama, Comedy, and Action dominate the platform's content catalog. This indicates user preference trends and content creation focus areas. It also highlights a relatively balanced genre diversity, suggesting efforts to cater to different audience segments.\n",
        "\n"
      ],
      "metadata": {
        "id": "Po6ZPi4hphqO"
      }
    },
    {
      "cell_type": "markdown",
      "source": [
        "##### 3. Will the gained insights help creating a positive business impact?\n",
        "Are there any insights that lead to negative growth? Justify with specific reason."
      ],
      "metadata": {
        "id": "b0JNsNcRphqO"
      }
    },
    {
      "cell_type": "markdown",
      "source": [
        "\n",
        "Are there any insights that lead to negative growth? Justify with specific reason.\n",
        "\n",
        "Yes, these insights can support data-driven content acquisition and production strategies. Knowing the top-performing genres allows Amazon Prime to invest more in these categories, ensuring content alignment with audience demand. This can lead to higher viewer engagement, retention, and subscription growth.\n",
        "\n",
        "A possible negative insight is the overconcentration of certain genres (like drama or comedy). This could result in genre fatigue for viewers and missed opportunities in underserved genres like documentaries, sci-fi, or niche regional content. If competitors cater to those niche demands more effectively, Amazon Prime may risk losing those audience segments. Therefore, while focusing on top genres is profitable, maintaining content diversity is crucial for long-term growth.Answer HereAnswer Here"
      ],
      "metadata": {
        "id": "xvSq8iUTphqO"
      }
    },
    {
      "cell_type": "markdown",
      "source": [
        "#### Chart - 8"
      ],
      "metadata": {
        "id": "BZR9WyysphqO"
      }
    },
    {
      "cell_type": "code",
      "source": [
        "# Chart - 8 visualization code\n",
        "# Average IMDb Score by Content Type\n",
        "\n",
        "avg_score_by_type = merged_df.groupby('type')['imdb_score'].mean().sort_values()\n",
        "\n",
        "avg_score_by_type.plot(kind='bar', color='green')\n",
        "plt.title(\"Average IMDb Score by Type\")\n",
        "plt.ylabel(\"Avg Score\")\n",
        "plt.show()"
      ],
      "metadata": {
        "id": "TdPTWpAVphqO"
      },
      "execution_count": null,
      "outputs": []
    },
    {
      "cell_type": "markdown",
      "source": [
        "##### 1. Why did you pick the specific chart?"
      ],
      "metadata": {
        "id": "jj7wYXLtphqO"
      }
    },
    {
      "cell_type": "markdown",
      "source": [
        "A bar chart is ideal for comparing average IMDb scores across different content types (e.g., Movies, TV Shows). It provides a clear visual distinction between categories, making it easy to identify which type performs better in terms of audience ratings.\n",
        "\n",
        "keyboard_arrow_down\n",
        "2. What is/are the insight(s) found from the chart?\n",
        "The chart reveals the average IMDb scores by content type. If, for instance, TV Shows have a slightly higher average than Movies (or vice versa), it indicates how different formats are perceived by audiences. This insight highlights viewer satisfaction trends based on content format.\n",
        "\n",
        "keyboard_arrow_down\n",
        "3. Will the gained insights help creating a positive business impact?\n",
        "Are there any insights that lead to negative growth? Justify with specific reason.\n",
        "\n",
        "Yes. Understanding which content type receives higher viewer ratings can guide strategic investment decisions. If TV Shows consistently outperform Movies in ratings, Amazon can focus more on producing or acquiring high-quality TV series to enhance user satisfaction and boost platform loyalty.\n",
        "\n",
        "If a particular content type (e.g., Movies) has a noticeably lower average IMDb score, it could indicate quality concerns in that category. This might lead to negative reviews, lower watch times, and subscriber churn if not addressed. Therefore, such insights highlight improvement areas critical to maintaining overall platform quality and viewer trust.A bar chart is ideal for comparing average IMDb scores across different content types (e.g., Movies, TV Shows). It provides a clear visual distinction between categories, making it easy to identify which type performs better in terms of audience ratings.\n",
        "\n"
      ],
      "metadata": {
        "id": "Ob8u6rCTphqO"
      }
    },
    {
      "cell_type": "markdown",
      "source": [
        "##### 2. What is/are the insight(s) found from the chart?"
      ],
      "metadata": {
        "id": "eZrbJ2SmphqO"
      }
    },
    {
      "cell_type": "markdown",
      "source": [
        "\n",
        "The chart reveals the average IMDb scores by content type. If, for instance, TV Shows have a slightly higher average than Movies (or vice versa), it indicates how different formats are perceived by audiences. This insight highlights viewer satisfaction trends based on content format.\n",
        "\n",
        "\n",
        "\n",
        "\n"
      ],
      "metadata": {
        "id": "mZtgC_hjphqO"
      }
    },
    {
      "cell_type": "markdown",
      "source": [
        "##### 3. Will the gained insights help creating a positive business impact?\n",
        "Are there any insights that lead to negative growth? Justify with specific reason."
      ],
      "metadata": {
        "id": "rFu4xreNphqO"
      }
    },
    {
      "cell_type": "markdown",
      "source": [
        "Yes. Understanding which content type receives higher viewer ratings can guide strategic investment decisions. If TV Shows consistently outperform Movies in ratings, Amazon can focus more on producing or acquiring high-quality TV series to enhance user satisfaction and boost platform loyalty.\n",
        "\n",
        "If a particular content type (e.g., Movies) has a noticeably lower average IMDb score, it could indicate quality concerns in that category. This might lead to negative reviews, lower watch times, and subscriber churn if not addressed. Therefore, such insights highlight improvement areas critical to maintaining overall platform quality and viewer trust.Answer HereAnswer Here"
      ],
      "metadata": {
        "id": "ey_0qi68phqO"
      }
    },
    {
      "cell_type": "markdown",
      "source": [
        "#### Chart - 9"
      ],
      "metadata": {
        "id": "YJ55k-q6phqO"
      }
    },
    {
      "cell_type": "code",
      "source": [
        "# Chart - 9 visualization code\n",
        "# TMDb Popularity vs IMDb Score Scatter Plot\n",
        "\n",
        "plt.figure(figsize=(8,5))\n",
        "sns.scatterplot(data=merged_df, x='imdb_score', y='tmdb_popularity', hue='type', alpha=0.7)\n",
        "plt.title('IMDb Score vs TMDb Popularity')\n",
        "plt.xlabel('IMDb Score')\n",
        "plt.ylabel('TMDb Popularity')\n",
        "plt.show()"
      ],
      "metadata": {
        "id": "B2aS4O1ophqO"
      },
      "execution_count": null,
      "outputs": []
    },
    {
      "cell_type": "markdown",
      "source": [
        "##### 1. Why did you pick the specific chart?"
      ],
      "metadata": {
        "id": "gCFgpxoyphqP"
      }
    },
    {
      "cell_type": "markdown",
      "source": [
        "A scatter plot is perfect for visualizing the relationship between two continuous variables — in this case, IMDb Score and TMDb Popularity. It allows us to detect correlation patterns, clusters, and outliers, while the hue='type' distinction adds clarity by separating Movies and TV Shows.\n",
        "\n",
        "\n",
        "\n",
        "\n"
      ],
      "metadata": {
        "id": "TVxDimi2phqP"
      }
    },
    {
      "cell_type": "markdown",
      "source": [
        "##### 2. What is/are the insight(s) found from the chart?"
      ],
      "metadata": {
        "id": "OVtJsKN_phqQ"
      }
    },
    {
      "cell_type": "markdown",
      "source": [
        "There is no strong linear correlation between IMDb scores and TMDb popularity — some titles with high IMDb scores have low popularity and vice versa.\n",
        "\n",
        "Certain TV shows or movies cluster at moderate scores but high popularity, possibly due to trending topics or franchise value.\n",
        "\n",
        "A few outliers with very high TMDb popularity but average IMDb scores may indicate marketing-driven or viral content.Answer Here"
      ],
      "metadata": {
        "id": "ngGi97qjphqQ"
      }
    },
    {
      "cell_type": "markdown",
      "source": [
        "##### 3. Will the gained insights help creating a positive business impact?\n",
        "Are there any insights that lead to negative growth? Justify with specific reason."
      ],
      "metadata": {
        "id": "lssrdh5qphqQ"
      }
    },
    {
      "cell_type": "markdown",
      "source": [
        "\n",
        "\n",
        "There is no strong linear correlation between IMDb scores and TMDb popularity — some titles with high IMDb scores have low popularity and vice versa.\n",
        "\n",
        "Certain TV shows or movies cluster at moderate scores but high popularity, possibly due to trending topics or franchise value.\n",
        "\n",
        "A few outliers with very high TMDb popularity but average IMDb scores may indicate marketing-driven or viral content.Answer Here"
      ],
      "metadata": {
        "id": "tBpY5ekJphqQ"
      }
    },
    {
      "cell_type": "markdown",
      "source": [
        "#### Chart - 10"
      ],
      "metadata": {
        "id": "U2RJ9gkRphqQ"
      }
    },
    {
      "cell_type": "code",
      "source": [
        "# Chart - 10 visualization code\n",
        "# Top 10 Actors by Frequency\n",
        "\n",
        "from collections import Counter\n",
        "import ast\n",
        "\n",
        "# Filter for actors and extract names\n",
        "actor_names = merged_df[merged_df['role'] == 'ACTOR']['name'].dropna()\n",
        "\n",
        "# Count actor occurrences\n",
        "actor_counts = Counter(actor_names)\n",
        "top_actors = dict(sorted(actor_counts.items(), key=lambda x: x[1], reverse=True)[:10])\n",
        "\n",
        "# Plot\n",
        "plt.figure(figsize=(10,5))\n",
        "sns.barplot(x=list(top_actors.values()), y=list(top_actors.keys()))\n",
        "plt.title(\"Top 10 Most Frequently Featured Actors\")\n",
        "plt.xlabel(\"Appearances\")\n",
        "plt.ylabel(\"Actors\")\n",
        "plt.show()"
      ],
      "metadata": {
        "id": "GM7a4YP4phqQ"
      },
      "execution_count": null,
      "outputs": []
    },
    {
      "cell_type": "markdown",
      "source": [
        "##### 1. Why did you pick the specific chart?"
      ],
      "metadata": {
        "id": "1M8mcRywphqQ"
      }
    },
    {
      "cell_type": "markdown",
      "source": [
        "Bar charts are excellent for comparing frequency across discrete values — here, actors as codeAnswer Here."
      ],
      "metadata": {
        "id": "8agQvks0phqQ"
      }
    },
    {
      "cell_type": "markdown",
      "source": [
        "##### 2. What is/are the insight(s) found from the chart?"
      ],
      "metadata": {
        "id": "tgIPom80phqQ"
      }
    },
    {
      "cell_type": "markdown",
      "source": [
        "Certain actors appear far more often, indicating they are Amazon favorites or have strong audience pull"
      ],
      "metadata": {
        "id": "Qp13pnNzphqQ"
      }
    },
    {
      "cell_type": "markdown",
      "source": [
        "##### 3. Will the gained insights help creating a positive business impact?\n",
        "Are there any insights that lead to negative growth? Justify with specific reason."
      ],
      "metadata": {
        "id": "JMzcOPDDphqR"
      }
    },
    {
      "cell_type": "markdown",
      "source": [
        "These actors can be prioritized for future collaborations and promotions to attract loyal viewership.Answer Here"
      ],
      "metadata": {
        "id": "R4Ka1PC2phqR"
      }
    },
    {
      "cell_type": "markdown",
      "source": [
        "#### Chart - 11"
      ],
      "metadata": {
        "id": "x-EpHcCOp1ci"
      }
    },
    {
      "cell_type": "code",
      "source": [
        "# Chart - 11 visualization code\n",
        "# Runtime Distribution of Movies\n",
        "\n",
        "plt.figure(figsize=(10,5))\n",
        "sns.boxplot(data=merged_df[merged_df['type']=='MOVIE'], x='type', y='runtime', color='skyblue')\n",
        "plt.title(\"Runtime Distribution of Movies\")\n",
        "plt.ylabel(\"Runtime (minutes)\")\n",
        "plt.show()"
      ],
      "metadata": {
        "id": "mAQTIvtqp1cj"
      },
      "execution_count": null,
      "outputs": []
    },
    {
      "cell_type": "markdown",
      "source": [
        "##### 1. Why did you pick the specific chart?"
      ],
      "metadata": {
        "id": "X_VqEhTip1ck"
      }
    },
    {
      "cell_type": "markdown",
      "source": [
        "Boxplot shows central tendency and outliers — ideal for continuous variables like runtime.\n",
        "\n"
      ],
      "metadata": {
        "id": "-vsMzt_np1ck"
      }
    },
    {
      "cell_type": "markdown",
      "source": [
        "##### 2. What is/are the insight(s) found from the chart?"
      ],
      "metadata": {
        "id": "8zGJKyg5p1ck"
      }
    },
    {
      "cell_type": "markdown",
      "source": [
        "Most movies fall between 80–120 minutes, but outliers exist with extremely short or long durations.\n",
        "\n",
        "\n"
      ],
      "metadata": {
        "id": "ZYdMsrqVp1ck"
      }
    },
    {
      "cell_type": "markdown",
      "source": [
        "##### 3. Will the gained insights help creating a positive business impact?\n",
        "Are there any insights that lead to negative growth? Justify with specific reason."
      ],
      "metadata": {
        "id": "PVzmfK_Ep1ck"
      }
    },
    {
      "cell_type": "markdown",
      "source": [
        "\n",
        "\n",
        "Confirms standard movie length, helpful for programming and audience expectations.\n",
        "\n",
        "keyboard_arrow_downAnswer Here"
      ],
      "metadata": {
        "id": "druuKYZpp1ck"
      }
    },
    {
      "cell_type": "markdown",
      "source": [
        "#### Chart - 12"
      ],
      "metadata": {
        "id": "n3dbpmDWp1ck"
      }
    },
    {
      "cell_type": "code",
      "source": [
        "# Chart - 12 visualization code\n",
        "# Content Type Count by Maturity Rating\n",
        "plt.figure(figsize=(12,5))\n",
        "sns.countplot(data=merged_df, x='age_certification', hue='type')\n",
        "plt.title(\"Content Type by Age Certification\")\n",
        "plt.xlabel(\"Age Certification\")\n",
        "plt.ylabel(\"Count\")\n",
        "plt.xticks(rotation=45)\n",
        "plt.show()"
      ],
      "metadata": {
        "id": "bwevp1tKp1ck"
      },
      "execution_count": null,
      "outputs": []
    },
    {
      "cell_type": "markdown",
      "source": [
        "##### 1. Why did you pick the specific chart?"
      ],
      "metadata": {
        "id": "ylSl6qgtp1ck"
      }
    },
    {
      "cell_type": "markdown",
      "source": [
        "because it is good"
      ],
      "metadata": {
        "id": "m2xqNkiQp1ck"
      }
    },
    {
      "cell_type": "markdown",
      "source": [
        "##### 2. What is/are the insight(s) found from the chart?"
      ],
      "metadata": {
        "id": "ZWILFDl5p1ck"
      }
    },
    {
      "cell_type": "markdown",
      "source": [
        "TV-14 and R are dominant, suggesting a focus on teenage and adult audiencesAnswer Here"
      ],
      "metadata": {
        "id": "x-lUsV2mp1ck"
      }
    },
    {
      "cell_type": "markdown",
      "source": [
        "##### 3. Will the gained insights help creating a positive business impact?\n",
        "Are there any insights that lead to negative growth? Justify with specific reason."
      ],
      "metadata": {
        "id": "M7G43BXep1ck"
      }
    },
    {
      "cell_type": "markdown",
      "source": [
        "Supports targeting strategy for young adults and mature usersAnswer Here"
      ],
      "metadata": {
        "id": "5wwDJXsLp1cl"
      }
    },
    {
      "cell_type": "markdown",
      "source": [
        "#### Chart - 13"
      ],
      "metadata": {
        "id": "Ag9LCva-p1cl"
      }
    },
    {
      "cell_type": "code",
      "source": [
        "# Chart - 13 visualization code\n",
        "# TV Show Seasons Distribution\n",
        "\n",
        "plt.figure(figsize=(10,5))\n",
        "sns.histplot(merged_df[merged_df['type']=='SHOW']['seasons'].dropna(), bins=15, kde=True)\n",
        "plt.title(\"Distribution of Seasons in TV Shows\")\n",
        "plt.xlabel(\"Number of Seasons\")\n",
        "plt.ylabel(\"Count\")\n",
        "plt.show()"
      ],
      "metadata": {
        "id": "EUfxeq9-p1cl"
      },
      "execution_count": null,
      "outputs": []
    },
    {
      "cell_type": "markdown",
      "source": [
        "##### 1. Why did you pick the specific chart?"
      ],
      "metadata": {
        "id": "E6MkPsBcp1cl"
      }
    },
    {
      "cell_type": "markdown",
      "source": [
        "Histogram with KDE shows how many seasons most shows have.Answer Here."
      ],
      "metadata": {
        "id": "V22bRsFWp1cl"
      }
    },
    {
      "cell_type": "markdown",
      "source": [
        "##### 2. What is/are the insight(s) found from the chart?"
      ],
      "metadata": {
        "id": "2cELzS2fp1cl"
      }
    },
    {
      "cell_type": "markdown",
      "source": [
        "Majority of shows have 1 TO 3 seasons; few long-running series exist."
      ],
      "metadata": {
        "id": "ozQPc2_Ip1cl"
      }
    },
    {
      "cell_type": "markdown",
      "source": [
        "##### 3. Will the gained insights help creating a positive business impact?\n",
        "Are there any insights that lead to negative growth? Justify with specific reason."
      ],
      "metadata": {
        "id": "3MPXvC8up1cl"
      }
    },
    {
      "cell_type": "markdown",
      "source": [
        "Are there any insights that lead to negative growth? Justify with specific reason."
      ],
      "metadata": {
        "id": "GL8l1tdLp1cl"
      }
    },
    {
      "cell_type": "markdown",
      "source": [
        "#### Chart - 14 - Correlation Heatmap"
      ],
      "metadata": {
        "id": "NC_X3p0fY2L0"
      }
    },
    {
      "cell_type": "code",
      "source": [
        "# Correlation Heatmap visualization code\n",
        "# Select numerical columns for correlation\n",
        "\n",
        "numeric_cols = merged_df.select_dtypes(include=['float64', 'int64'])\n",
        "\n",
        "# Compute correlation matrix\n",
        "correlation_matrix = numeric_cols.corr()\n",
        "\n",
        "# Plot heatmap\n",
        "plt.figure(figsize=(10,6))\n",
        "sns.heatmap(correlation_matrix, annot=True, cmap='coolwarm', linewidths=0.5)\n",
        "plt.title('Correlation Heatmap of Numerical Features')\n",
        "plt.show()\n"
      ],
      "metadata": {
        "id": "xyC9zolEZNRQ"
      },
      "execution_count": null,
      "outputs": []
    },
    {
      "cell_type": "markdown",
      "source": [
        "##### 1. Why did you pick the specific chart?"
      ],
      "metadata": {
        "id": "UV0SzAkaZNRQ"
      }
    },
    {
      "cell_type": "markdown",
      "source": [
        "A correlation heatmap is a powerful visualization for identifying linear relationships between multiple numeric variables at once. In this context, plotting a heatmap allows us to examine how features like IMDb score, TMDb popularity, runtime, and release year are interrelated. This helps detect potential dependencies or patterns between variables that could be leveraged for predictive modeling, content recommendation systems, or strategic decisions on content acquisition.\n",
        "\n"
      ],
      "metadata": {
        "id": "DVPuT8LYZNRQ"
      }
    },
    {
      "cell_type": "markdown",
      "source": [
        "##### 2. What is/are the insight(s) found from the chart?"
      ],
      "metadata": {
        "id": "YPEH6qLeZNRQ"
      }
    },
    {
      "cell_type": "markdown",
      "source": [
        "\n",
        "The heatmap reveals that IMDb score and TMDb popularity have a low positive correlation, suggesting that while some popular content may be highly rated, it's not always the case. Runtime shows a slightly positive relationship with IMDb score, implying longer shows or movies might be perceived as better quality. There is also a negligible correlation between release year and ratings, indicating audience preferences are more driven by content quality than age of release"
      ],
      "metadata": {
        "id": "bfSqtnDqZNRR"
      }
    },
    {
      "cell_type": "markdown",
      "source": [
        "#### Chart - 15 - Pair Plot"
      ],
      "metadata": {
        "id": "q29F0dvdveiT"
      }
    },
    {
      "cell_type": "code",
      "source": [
        "# Pair Plot visualization code\n",
        "# Select key numerical features for the pair plot\n",
        "selected_features = ['imdb_score', 'tmdb_popularity', 'runtime', 'release_year']\n",
        "\n",
        "# Create pairplot\n",
        "sns.pairplot(merged_df[selected_features].dropna())\n",
        "plt.suptitle('Pair Plot of Key Features', y=1.02)\n",
        "plt.show()"
      ],
      "metadata": {
        "id": "o58-TEIhveiU"
      },
      "execution_count": null,
      "outputs": []
    },
    {
      "cell_type": "markdown",
      "source": [
        "##### 1. Why did you pick the specific chart?"
      ],
      "metadata": {
        "id": "EXh0U9oCveiU"
      }
    },
    {
      "cell_type": "markdown",
      "source": [
        "A pair plot allows us to observe relationships and distribution patterns between multiple numerical features simultaneously. This chart helps in understanding how variables interact with each other, uncovering potential linear/non-linear trends, clustering, or outliers. It's particularly useful for feature selection and understanding dataset behavior before modeling."
      ],
      "metadata": {
        "id": "eMmPjTByveiU"
      }
    },
    {
      "cell_type": "markdown",
      "source": [
        "##### 2. What is/are the insight(s) found from the chart?"
      ],
      "metadata": {
        "id": "22aHeOlLveiV"
      }
    },
    {
      "cell_type": "markdown",
      "source": [
        "IMDb score and TMDb popularity don’t exhibit a strong linear correlation, though a few outliers suggest that extremely high scores may correspond to spikes in popularity.\n",
        "\n",
        "Runtime shows minor positive clustering with IMDb score, indicating that slightly longer content tends to receive higher ratings.\n",
        "\n",
        "The release year is somewhat uniformly distributed and does not display a strong relationship with any other variables, indicating that content age alone doesn't drive ratings or popularity.Answer Here"
      ],
      "metadata": {
        "id": "uPQ8RGwHveiV"
      }
    },
    {
      "cell_type": "markdown",
      "source": [
        "## **5. Solution to Business Objective**"
      ],
      "metadata": {
        "id": "JcMwzZxoAimU"
      }
    },
    {
      "cell_type": "markdown",
      "source": [
        "#### What do you suggest the client to achieve Business Objective ?\n",
        "Explain Briefly."
      ],
      "metadata": {
        "id": "8G2x9gOozGDZ"
      }
    },
    {
      "cell_type": "markdown",
      "source": [
        "To achieve Amazon Prime's business goals of boosting engagement and subscriber growth, focusing on data-backed strategies is essential. The analysis shows high popularity in genres like Drama, Comedy, and Documentary, suggesting more investments in these categories.\n",
        "\n",
        "Content with higher IMDb and TMDb scores reflects strong viewer satisfaction. Featuring such titles in curated sections like “Top Rated” can enhance visibility and viewer retention.\n",
        "\n",
        "Movies tend to outperform TV shows in ratings; improving script quality and pacing for shows can help close this gap. Additionally, content with runtimes between 90–120 minutes performs best and should be prioritized.\n",
        "\n",
        "Older titles still maintain good ratings, offering a low-cost opportunity to re-promote quality classics. A diverse mix of content along with personalized recommendations can drive sustained engagement.\n",
        "\n",
        "These insights support a targeted content strategy that aligns with audience demand and platform performance goals, ensuring positive business impact."
      ],
      "metadata": {
        "id": "pASKb0qOza21"
      }
    },
    {
      "cell_type": "markdown",
      "source": [
        "# **Conclusion**"
      ],
      "metadata": {
        "id": "gCX9965dhzqZ"
      }
    },
    {
      "cell_type": "markdown",
      "source": [
        "The in-depth Exploratory Data Analysis of Amazon Prime's movie and show catalog provides actionable insights to drive strategic growth. It clearly highlights that genres like Drama, Comedy, and Action dominate viewer preferences, while movies consistently receive higher IMDb ratings compared to TV shows. Additionally, titles with optimal runtimes and strong historical performance still maintain popularity, indicating the value of quality evergreen content.\n",
        "\n",
        "To achieve stronger business impact, Amazon Prime should focus on producing and promoting high-quality content in these top-performing genres, re-market high-rated legacy titles, and invest in content strategies backed by performance data. These data-backed decisions will not only enhance user satisfaction and engagement but also foster long-term platform loyalty and competitive advantage.\n",
        "\n",
        "keyboard_arrow_down\n"
      ],
      "metadata": {
        "id": "Fjb1IsQkh3yE"
      }
    },
    {
      "cell_type": "markdown",
      "source": [
        "### ***Hurrah! You have successfully completed your EDA Capstone Project !!!***"
      ],
      "metadata": {
        "id": "gIfDvo9L0UH2"
      }
    },
    {
      "cell_type": "code",
      "source": [],
      "metadata": {
        "id": "dYX880etpL0x"
      },
      "execution_count": null,
      "outputs": []
    },
    {
      "cell_type": "code",
      "source": [],
      "metadata": {
        "id": "-6Vl263upPVI"
      },
      "execution_count": null,
      "outputs": []
    }
  ]
}